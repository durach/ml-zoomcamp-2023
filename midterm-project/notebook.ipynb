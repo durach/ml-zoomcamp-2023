{
 "cells": [
  {
   "cell_type": "markdown",
   "id": "ceac80c9-59e7-4afa-9dc0-8b8f10b08df5",
   "metadata": {},
   "source": [
    "# Midterm Project: Heart Failure Prediction"
   ]
  },
  {
   "cell_type": "markdown",
   "id": "727ef652-b12b-4230-b9ab-4ed553c29703",
   "metadata": {},
   "source": [
    "Data Source: [Heart Failure Prediction Dataset](https://www.kaggle.com/datasets/fedesoriano/heart-failure-prediction)\n",
    "\n",
    "Attribute Information:\n",
    "* Age: age of the patient (years)\n",
    "* Sex: sex of the patient (M: Male, F: Female)\n",
    "* ChestPainType: chest pain type (TA: Typical Angina, ATA: Atypical Angina, NAP: Non-Anginal Pain, ASY: Asymptomatic)\n",
    "* RestingBP: resting blood pressure (mm Hg)\n",
    "* Cholesterol: serum cholesterol (mm/dl)\n",
    "* FastingBS: fasting blood sugar (1: if FastingBS > 120 mg/dl, 0: otherwise)\n",
    "* RestingECG: resting electrocardiogram results (Normal: Normal, ST: having ST-T wave abnormality (T wave inversions and/or ST elevation or depression of > 0.05 mV), LVH: showing probable or definite left ventricular hypertrophy by Estes' criteria)\n",
    "* MaxHR: maximum heart rate achieved (Numeric value between 60 and 202)\n",
    "* ExerciseAngina: exercise-induced angina (Y: Yes, N: No)\n",
    "* Oldpeak: oldpeak = ST (Numeric value measured in depression)\n",
    "* ST_Slope: the slope of the peak exercise ST segment (Up: upsloping, Flat: flat, Down: downsloping)\n",
    "* HeartDisease: output class (1: heart disease, 0: Normal)\n"
   ]
  },
  {
   "cell_type": "markdown",
   "id": "28c99458-c8ea-4632-8347-9a38b45afb13",
   "metadata": {},
   "source": [
    "## Data Preparation"
   ]
  },
  {
   "cell_type": "code",
   "execution_count": 1,
   "id": "ef80ae92-c622-4aa3-85fe-01e8cd944dee",
   "metadata": {},
   "outputs": [],
   "source": [
    "import warnings\n",
    "warnings.simplefilter(action='ignore', category=FutureWarning)\n",
    "\n",
    "import pandas as pd\n",
    "import numpy as np\n",
    "import matplotlib.pyplot as plt\n",
    "import seaborn as sns\n",
    "\n",
    "%matplotlib inline"
   ]
  },
  {
   "cell_type": "code",
   "execution_count": 2,
   "id": "0088151c-d092-4929-acc6-ad0b682eea91",
   "metadata": {},
   "outputs": [
    {
     "data": {
      "text/html": [
       "<div>\n",
       "<style scoped>\n",
       "    .dataframe tbody tr th:only-of-type {\n",
       "        vertical-align: middle;\n",
       "    }\n",
       "\n",
       "    .dataframe tbody tr th {\n",
       "        vertical-align: top;\n",
       "    }\n",
       "\n",
       "    .dataframe thead th {\n",
       "        text-align: right;\n",
       "    }\n",
       "</style>\n",
       "<table border=\"1\" class=\"dataframe\">\n",
       "  <thead>\n",
       "    <tr style=\"text-align: right;\">\n",
       "      <th></th>\n",
       "      <th>age</th>\n",
       "      <th>sex</th>\n",
       "      <th>chestpaintype</th>\n",
       "      <th>restingbp</th>\n",
       "      <th>cholesterol</th>\n",
       "      <th>fastingbs</th>\n",
       "      <th>restingecg</th>\n",
       "      <th>maxhr</th>\n",
       "      <th>exerciseangina</th>\n",
       "      <th>oldpeak</th>\n",
       "      <th>st_slope</th>\n",
       "      <th>heartdisease</th>\n",
       "    </tr>\n",
       "  </thead>\n",
       "  <tbody>\n",
       "    <tr>\n",
       "      <th>0</th>\n",
       "      <td>40</td>\n",
       "      <td>M</td>\n",
       "      <td>ATA</td>\n",
       "      <td>140</td>\n",
       "      <td>289</td>\n",
       "      <td>0</td>\n",
       "      <td>Normal</td>\n",
       "      <td>172</td>\n",
       "      <td>N</td>\n",
       "      <td>0.0</td>\n",
       "      <td>Up</td>\n",
       "      <td>0</td>\n",
       "    </tr>\n",
       "    <tr>\n",
       "      <th>1</th>\n",
       "      <td>49</td>\n",
       "      <td>F</td>\n",
       "      <td>NAP</td>\n",
       "      <td>160</td>\n",
       "      <td>180</td>\n",
       "      <td>0</td>\n",
       "      <td>Normal</td>\n",
       "      <td>156</td>\n",
       "      <td>N</td>\n",
       "      <td>1.0</td>\n",
       "      <td>Flat</td>\n",
       "      <td>1</td>\n",
       "    </tr>\n",
       "    <tr>\n",
       "      <th>2</th>\n",
       "      <td>37</td>\n",
       "      <td>M</td>\n",
       "      <td>ATA</td>\n",
       "      <td>130</td>\n",
       "      <td>283</td>\n",
       "      <td>0</td>\n",
       "      <td>ST</td>\n",
       "      <td>98</td>\n",
       "      <td>N</td>\n",
       "      <td>0.0</td>\n",
       "      <td>Up</td>\n",
       "      <td>0</td>\n",
       "    </tr>\n",
       "    <tr>\n",
       "      <th>3</th>\n",
       "      <td>48</td>\n",
       "      <td>F</td>\n",
       "      <td>ASY</td>\n",
       "      <td>138</td>\n",
       "      <td>214</td>\n",
       "      <td>0</td>\n",
       "      <td>Normal</td>\n",
       "      <td>108</td>\n",
       "      <td>Y</td>\n",
       "      <td>1.5</td>\n",
       "      <td>Flat</td>\n",
       "      <td>1</td>\n",
       "    </tr>\n",
       "    <tr>\n",
       "      <th>4</th>\n",
       "      <td>54</td>\n",
       "      <td>M</td>\n",
       "      <td>NAP</td>\n",
       "      <td>150</td>\n",
       "      <td>195</td>\n",
       "      <td>0</td>\n",
       "      <td>Normal</td>\n",
       "      <td>122</td>\n",
       "      <td>N</td>\n",
       "      <td>0.0</td>\n",
       "      <td>Up</td>\n",
       "      <td>0</td>\n",
       "    </tr>\n",
       "  </tbody>\n",
       "</table>\n",
       "</div>"
      ],
      "text/plain": [
       "   age sex chestpaintype  restingbp  cholesterol  fastingbs restingecg  maxhr  \\\n",
       "0   40   M           ATA        140          289          0     Normal    172   \n",
       "1   49   F           NAP        160          180          0     Normal    156   \n",
       "2   37   M           ATA        130          283          0         ST     98   \n",
       "3   48   F           ASY        138          214          0     Normal    108   \n",
       "4   54   M           NAP        150          195          0     Normal    122   \n",
       "\n",
       "  exerciseangina  oldpeak st_slope  heartdisease  \n",
       "0              N      0.0       Up             0  \n",
       "1              N      1.0     Flat             1  \n",
       "2              N      0.0       Up             0  \n",
       "3              Y      1.5     Flat             1  \n",
       "4              N      0.0       Up             0  "
      ]
     },
     "execution_count": 2,
     "metadata": {},
     "output_type": "execute_result"
    }
   ],
   "source": [
    "df = pd.read_csv('heart.csv')\n",
    "df.columns = df.columns.str.lower()\n",
    "df.head()"
   ]
  },
  {
   "cell_type": "code",
   "execution_count": 3,
   "id": "cad3d7ac-2c00-4953-8f8e-fd7eef019d55",
   "metadata": {},
   "outputs": [
    {
     "name": "stdout",
     "output_type": "stream",
     "text": [
      "<class 'pandas.core.frame.DataFrame'>\n",
      "RangeIndex: 918 entries, 0 to 917\n",
      "Data columns (total 12 columns):\n",
      " #   Column          Non-Null Count  Dtype  \n",
      "---  ------          --------------  -----  \n",
      " 0   age             918 non-null    int64  \n",
      " 1   sex             918 non-null    object \n",
      " 2   chestpaintype   918 non-null    object \n",
      " 3   restingbp       918 non-null    int64  \n",
      " 4   cholesterol     918 non-null    int64  \n",
      " 5   fastingbs       918 non-null    int64  \n",
      " 6   restingecg      918 non-null    object \n",
      " 7   maxhr           918 non-null    int64  \n",
      " 8   exerciseangina  918 non-null    object \n",
      " 9   oldpeak         918 non-null    float64\n",
      " 10  st_slope        918 non-null    object \n",
      " 11  heartdisease    918 non-null    int64  \n",
      "dtypes: float64(1), int64(6), object(5)\n",
      "memory usage: 86.2+ KB\n"
     ]
    }
   ],
   "source": [
    "df.info()"
   ]
  },
  {
   "cell_type": "markdown",
   "id": "1db488a5-41f8-4c4d-b942-f81102b4201d",
   "metadata": {},
   "source": [
    "## Validation Framework"
   ]
  },
  {
   "cell_type": "code",
   "execution_count": 4,
   "id": "a5316e8f-0d85-4d1f-8727-0c8dd51896af",
   "metadata": {},
   "outputs": [
    {
     "data": {
      "text/plain": [
       "(550, 184, 184)"
      ]
     },
     "execution_count": 4,
     "metadata": {},
     "output_type": "execute_result"
    }
   ],
   "source": [
    "from sklearn.model_selection import train_test_split\n",
    "df_full_train, df_test = train_test_split(df, test_size=0.2, random_state=42)\n",
    "df_train, df_val = train_test_split(df_full_train, test_size=0.25, random_state=42)\n",
    "len(df_train), len(df_val), len(df_test)"
   ]
  },
  {
   "cell_type": "code",
   "execution_count": 5,
   "id": "d6e5144b-e0a1-4e15-a2fa-a6d4a63d2aed",
   "metadata": {},
   "outputs": [],
   "source": [
    "df_train = df_train.reset_index(drop=True)\n",
    "df_val = df_val.reset_index(drop=True)\n",
    "df_test = df_test.reset_index(drop=True)"
   ]
  },
  {
   "cell_type": "code",
   "execution_count": 6,
   "id": "a2ef16d3-ebaf-47d2-ad7d-8cb0ab9fdd2c",
   "metadata": {},
   "outputs": [],
   "source": [
    "\n",
    "y_train = df_train.heartdisease.values\n",
    "y_val = df_val.heartdisease.values\n",
    "y_test = df_test.heartdisease.values\n",
    "\n",
    "del df_train['heartdisease']\n",
    "del df_val['heartdisease']\n",
    "del df_test['heartdisease']"
   ]
  },
  {
   "cell_type": "markdown",
   "id": "6ea5411c-e25c-4f59-9a12-30afdfa2f971",
   "metadata": {},
   "source": [
    "## EDA"
   ]
  },
  {
   "cell_type": "code",
   "execution_count": 7,
   "id": "0b73fb1b-c157-4544-9450-83ebc265a903",
   "metadata": {},
   "outputs": [
    {
     "data": {
      "text/html": [
       "<div>\n",
       "<style scoped>\n",
       "    .dataframe tbody tr th:only-of-type {\n",
       "        vertical-align: middle;\n",
       "    }\n",
       "\n",
       "    .dataframe tbody tr th {\n",
       "        vertical-align: top;\n",
       "    }\n",
       "\n",
       "    .dataframe thead th {\n",
       "        text-align: right;\n",
       "    }\n",
       "</style>\n",
       "<table border=\"1\" class=\"dataframe\">\n",
       "  <thead>\n",
       "    <tr style=\"text-align: right;\">\n",
       "      <th></th>\n",
       "      <th>age</th>\n",
       "      <th>restingbp</th>\n",
       "      <th>cholesterol</th>\n",
       "      <th>fastingbs</th>\n",
       "      <th>maxhr</th>\n",
       "      <th>oldpeak</th>\n",
       "      <th>heartdisease</th>\n",
       "    </tr>\n",
       "  </thead>\n",
       "  <tbody>\n",
       "    <tr>\n",
       "      <th>count</th>\n",
       "      <td>734.000000</td>\n",
       "      <td>734.000000</td>\n",
       "      <td>734.000000</td>\n",
       "      <td>734.000000</td>\n",
       "      <td>734.000000</td>\n",
       "      <td>734.000000</td>\n",
       "      <td>734.000000</td>\n",
       "    </tr>\n",
       "    <tr>\n",
       "      <th>mean</th>\n",
       "      <td>53.651226</td>\n",
       "      <td>133.064033</td>\n",
       "      <td>199.683924</td>\n",
       "      <td>0.227520</td>\n",
       "      <td>136.178474</td>\n",
       "      <td>0.905041</td>\n",
       "      <td>0.546322</td>\n",
       "    </tr>\n",
       "    <tr>\n",
       "      <th>std</th>\n",
       "      <td>9.364290</td>\n",
       "      <td>18.438941</td>\n",
       "      <td>108.216855</td>\n",
       "      <td>0.419517</td>\n",
       "      <td>25.329254</td>\n",
       "      <td>1.082952</td>\n",
       "      <td>0.498189</td>\n",
       "    </tr>\n",
       "    <tr>\n",
       "      <th>min</th>\n",
       "      <td>29.000000</td>\n",
       "      <td>0.000000</td>\n",
       "      <td>0.000000</td>\n",
       "      <td>0.000000</td>\n",
       "      <td>60.000000</td>\n",
       "      <td>-2.600000</td>\n",
       "      <td>0.000000</td>\n",
       "    </tr>\n",
       "    <tr>\n",
       "      <th>25%</th>\n",
       "      <td>47.000000</td>\n",
       "      <td>120.000000</td>\n",
       "      <td>177.000000</td>\n",
       "      <td>0.000000</td>\n",
       "      <td>118.000000</td>\n",
       "      <td>0.000000</td>\n",
       "      <td>0.000000</td>\n",
       "    </tr>\n",
       "    <tr>\n",
       "      <th>50%</th>\n",
       "      <td>54.000000</td>\n",
       "      <td>130.000000</td>\n",
       "      <td>223.000000</td>\n",
       "      <td>0.000000</td>\n",
       "      <td>138.000000</td>\n",
       "      <td>0.600000</td>\n",
       "      <td>1.000000</td>\n",
       "    </tr>\n",
       "    <tr>\n",
       "      <th>75%</th>\n",
       "      <td>60.000000</td>\n",
       "      <td>140.000000</td>\n",
       "      <td>269.000000</td>\n",
       "      <td>0.000000</td>\n",
       "      <td>155.000000</td>\n",
       "      <td>1.500000</td>\n",
       "      <td>1.000000</td>\n",
       "    </tr>\n",
       "    <tr>\n",
       "      <th>max</th>\n",
       "      <td>77.000000</td>\n",
       "      <td>200.000000</td>\n",
       "      <td>603.000000</td>\n",
       "      <td>1.000000</td>\n",
       "      <td>202.000000</td>\n",
       "      <td>6.200000</td>\n",
       "      <td>1.000000</td>\n",
       "    </tr>\n",
       "  </tbody>\n",
       "</table>\n",
       "</div>"
      ],
      "text/plain": [
       "              age   restingbp  cholesterol   fastingbs       maxhr  \\\n",
       "count  734.000000  734.000000   734.000000  734.000000  734.000000   \n",
       "mean    53.651226  133.064033   199.683924    0.227520  136.178474   \n",
       "std      9.364290   18.438941   108.216855    0.419517   25.329254   \n",
       "min     29.000000    0.000000     0.000000    0.000000   60.000000   \n",
       "25%     47.000000  120.000000   177.000000    0.000000  118.000000   \n",
       "50%     54.000000  130.000000   223.000000    0.000000  138.000000   \n",
       "75%     60.000000  140.000000   269.000000    0.000000  155.000000   \n",
       "max     77.000000  200.000000   603.000000    1.000000  202.000000   \n",
       "\n",
       "          oldpeak  heartdisease  \n",
       "count  734.000000    734.000000  \n",
       "mean     0.905041      0.546322  \n",
       "std      1.082952      0.498189  \n",
       "min     -2.600000      0.000000  \n",
       "25%      0.000000      0.000000  \n",
       "50%      0.600000      1.000000  \n",
       "75%      1.500000      1.000000  \n",
       "max      6.200000      1.000000  "
      ]
     },
     "execution_count": 7,
     "metadata": {},
     "output_type": "execute_result"
    }
   ],
   "source": [
    "df_full_train.describe()"
   ]
  },
  {
   "cell_type": "code",
   "execution_count": 8,
   "id": "ccc72677-45a3-4a86-ba94-cabf2ce6c71c",
   "metadata": {},
   "outputs": [
    {
     "name": "stdout",
     "output_type": "stream",
     "text": [
      "age\n",
      "[40 49 37 48 54]\n",
      "50\n",
      "\n",
      "sex\n",
      "['M' 'F']\n",
      "2\n",
      "\n",
      "chestpaintype\n",
      "['ATA' 'NAP' 'ASY' 'TA']\n",
      "4\n",
      "\n",
      "restingbp\n",
      "[140 160 130 138 150]\n",
      "67\n",
      "\n",
      "cholesterol\n",
      "[289 180 283 214 195]\n",
      "222\n",
      "\n",
      "fastingbs\n",
      "[0 1]\n",
      "2\n",
      "\n",
      "restingecg\n",
      "['Normal' 'ST' 'LVH']\n",
      "3\n",
      "\n",
      "maxhr\n",
      "[172 156  98 108 122]\n",
      "119\n",
      "\n",
      "exerciseangina\n",
      "['N' 'Y']\n",
      "2\n",
      "\n",
      "oldpeak\n",
      "[0.  1.  1.5 2.  3. ]\n",
      "53\n",
      "\n",
      "st_slope\n",
      "['Up' 'Flat' 'Down']\n",
      "3\n",
      "\n",
      "heartdisease\n",
      "[0 1]\n",
      "2\n",
      "\n"
     ]
    }
   ],
   "source": [
    "for col in df_full_train.columns:\n",
    "    print(col)\n",
    "    print(df[col].unique()[:5])\n",
    "    print(df[col].nunique())\n",
    "    print()"
   ]
  },
  {
   "cell_type": "code",
   "execution_count": 9,
   "id": "7e5cd6fe-da0f-4c54-a873-bea2d81603e1",
   "metadata": {},
   "outputs": [
    {
     "data": {
      "text/plain": [
       "heartdisease\n",
       "1    0.546322\n",
       "0    0.453678\n",
       "Name: proportion, dtype: float64"
      ]
     },
     "execution_count": 9,
     "metadata": {},
     "output_type": "execute_result"
    }
   ],
   "source": [
    "df_full_train.heartdisease.value_counts(normalize=True)"
   ]
  },
  {
   "cell_type": "code",
   "execution_count": 10,
   "id": "3e75c282-3dc9-472b-9a52-4b2cc32727d6",
   "metadata": {},
   "outputs": [],
   "source": [
    "categorical = ['sex', 'chestpaintype', 'fastingbs', 'restingecg', 'exerciseangina', 'st_slope']\n",
    "numerical = ['age', 'restingbp', 'cholesterol', 'maxhr', 'oldpeak']"
   ]
  },
  {
   "cell_type": "code",
   "execution_count": 11,
   "id": "bf582da3-c504-4c51-b852-e83f5079ee6d",
   "metadata": {},
   "outputs": [
    {
     "data": {
      "text/plain": [
       "sex               2\n",
       "chestpaintype     4\n",
       "fastingbs         2\n",
       "restingecg        3\n",
       "exerciseangina    2\n",
       "st_slope          3\n",
       "dtype: int64"
      ]
     },
     "execution_count": 11,
     "metadata": {},
     "output_type": "execute_result"
    }
   ],
   "source": [
    "df_full_train[categorical].nunique()"
   ]
  },
  {
   "cell_type": "markdown",
   "id": "05368c6b-5990-40e9-b137-d9e72792676c",
   "metadata": {},
   "source": [
    "## Age"
   ]
  },
  {
   "cell_type": "code",
   "execution_count": 12,
   "id": "c802c08e-4f89-448c-9021-caecd506d589",
   "metadata": {},
   "outputs": [
    {
     "data": {
      "text/plain": [
       "<Axes: xlabel='age', ylabel='Count'>"
      ]
     },
     "execution_count": 12,
     "metadata": {},
     "output_type": "execute_result"
    },
    {
     "data": {
      "image/png": "[encoded data removed]",
      "text/plain": [
       "<Figure size 640x480 with 1 Axes>"
      ]
     },
     "metadata": {},
     "output_type": "display_data"
    }
   ],
   "source": [
    "sns.histplot(df.age, bins=50)"
   ]
  },
  {
   "cell_type": "markdown",
   "id": "89a7125d-45fc-4bcd-8ade-690d13d0d613",
   "metadata": {},
   "source": [
    "## Resting BP (resting blood pressure (mm Hg))"
   ]
  },
  {
   "cell_type": "code",
   "execution_count": 13,
   "id": "83c483f5-0a1b-4aa7-bdd5-0403f3ee364b",
   "metadata": {},
   "outputs": [
    {
     "data": {
      "text/plain": [
       "<Axes: xlabel='restingbp', ylabel='Count'>"
      ]
     },
     "execution_count": 13,
     "metadata": {},
     "output_type": "execute_result"
    },
    {
     "data": {
      "image/png": "[encoded data removed]",
      "text/plain": [
       "<Figure size 640x480 with 1 Axes>"
      ]
     },
     "metadata": {},
     "output_type": "display_data"
    }
   ],
   "source": [
    "sns.histplot(df.restingbp, bins=50)"
   ]
  },
  {
   "cell_type": "code",
   "execution_count": 14,
   "id": "635086d8-cc92-4b61-943c-f81ab9ba1cd7",
   "metadata": {},
   "outputs": [
    {
     "data": {
      "text/html": [
       "<div>\n",
       "<style scoped>\n",
       "    .dataframe tbody tr th:only-of-type {\n",
       "        vertical-align: middle;\n",
       "    }\n",
       "\n",
       "    .dataframe tbody tr th {\n",
       "        vertical-align: top;\n",
       "    }\n",
       "\n",
       "    .dataframe thead th {\n",
       "        text-align: right;\n",
       "    }\n",
       "</style>\n",
       "<table border=\"1\" class=\"dataframe\">\n",
       "  <thead>\n",
       "    <tr style=\"text-align: right;\">\n",
       "      <th></th>\n",
       "      <th>age</th>\n",
       "      <th>sex</th>\n",
       "      <th>chestpaintype</th>\n",
       "      <th>restingbp</th>\n",
       "      <th>cholesterol</th>\n",
       "      <th>fastingbs</th>\n",
       "      <th>restingecg</th>\n",
       "      <th>maxhr</th>\n",
       "      <th>exerciseangina</th>\n",
       "      <th>oldpeak</th>\n",
       "      <th>st_slope</th>\n",
       "      <th>heartdisease</th>\n",
       "    </tr>\n",
       "  </thead>\n",
       "  <tbody>\n",
       "    <tr>\n",
       "      <th>449</th>\n",
       "      <td>55</td>\n",
       "      <td>M</td>\n",
       "      <td>NAP</td>\n",
       "      <td>0</td>\n",
       "      <td>0</td>\n",
       "      <td>0</td>\n",
       "      <td>Normal</td>\n",
       "      <td>155</td>\n",
       "      <td>N</td>\n",
       "      <td>1.5</td>\n",
       "      <td>Flat</td>\n",
       "      <td>1</td>\n",
       "    </tr>\n",
       "  </tbody>\n",
       "</table>\n",
       "</div>"
      ],
      "text/plain": [
       "     age sex chestpaintype  restingbp  cholesterol  fastingbs restingecg  \\\n",
       "449   55   M           NAP          0            0          0     Normal   \n",
       "\n",
       "     maxhr exerciseangina  oldpeak st_slope  heartdisease  \n",
       "449    155              N      1.5     Flat             1  "
      ]
     },
     "execution_count": 14,
     "metadata": {},
     "output_type": "execute_result"
    }
   ],
   "source": [
    "# Strange values\n",
    "df[df.restingbp < 70].head()"
   ]
  },
  {
   "cell_type": "markdown",
   "id": "38e046bd-cb5a-4c3f-95bd-bb24b423fc90",
   "metadata": {},
   "source": [
    "## Cholesterol"
   ]
  },
  {
   "cell_type": "code",
   "execution_count": 15,
   "id": "5e7c00cc-d3ff-4647-bc63-48bdd8836160",
   "metadata": {},
   "outputs": [
    {
     "data": {
      "text/plain": [
       "<Axes: xlabel='cholesterol', ylabel='Count'>"
      ]
     },
     "execution_count": 15,
     "metadata": {},
     "output_type": "execute_result"
    },
    {
     "data": {
      "image/png": "[encoded data removed]",
      "text/plain": [
       "<Figure size 640x480 with 1 Axes>"
      ]
     },
     "metadata": {},
     "output_type": "display_data"
    }
   ],
   "source": [
    "sns.histplot(df.cholesterol, bins=50)"
   ]
  },
  {
   "cell_type": "code",
   "execution_count": 16,
   "id": "a91bb4b2-0ea2-46f4-a880-e8cc689d2c8c",
   "metadata": {},
   "outputs": [
    {
     "data": {
      "text/html": [
       "<div>\n",
       "<style scoped>\n",
       "    .dataframe tbody tr th:only-of-type {\n",
       "        vertical-align: middle;\n",
       "    }\n",
       "\n",
       "    .dataframe tbody tr th {\n",
       "        vertical-align: top;\n",
       "    }\n",
       "\n",
       "    .dataframe thead th {\n",
       "        text-align: right;\n",
       "    }\n",
       "</style>\n",
       "<table border=\"1\" class=\"dataframe\">\n",
       "  <thead>\n",
       "    <tr style=\"text-align: right;\">\n",
       "      <th></th>\n",
       "      <th>age</th>\n",
       "      <th>sex</th>\n",
       "      <th>chestpaintype</th>\n",
       "      <th>restingbp</th>\n",
       "      <th>cholesterol</th>\n",
       "      <th>fastingbs</th>\n",
       "      <th>restingecg</th>\n",
       "      <th>maxhr</th>\n",
       "      <th>exerciseangina</th>\n",
       "      <th>oldpeak</th>\n",
       "      <th>st_slope</th>\n",
       "      <th>heartdisease</th>\n",
       "    </tr>\n",
       "  </thead>\n",
       "  <tbody>\n",
       "    <tr>\n",
       "      <th>98</th>\n",
       "      <td>56</td>\n",
       "      <td>M</td>\n",
       "      <td>ASY</td>\n",
       "      <td>120</td>\n",
       "      <td>85</td>\n",
       "      <td>0</td>\n",
       "      <td>Normal</td>\n",
       "      <td>140</td>\n",
       "      <td>N</td>\n",
       "      <td>0.0</td>\n",
       "      <td>Up</td>\n",
       "      <td>0</td>\n",
       "    </tr>\n",
       "    <tr>\n",
       "      <th>293</th>\n",
       "      <td>65</td>\n",
       "      <td>M</td>\n",
       "      <td>ASY</td>\n",
       "      <td>115</td>\n",
       "      <td>0</td>\n",
       "      <td>0</td>\n",
       "      <td>Normal</td>\n",
       "      <td>93</td>\n",
       "      <td>Y</td>\n",
       "      <td>0.0</td>\n",
       "      <td>Flat</td>\n",
       "      <td>1</td>\n",
       "    </tr>\n",
       "    <tr>\n",
       "      <th>294</th>\n",
       "      <td>32</td>\n",
       "      <td>M</td>\n",
       "      <td>TA</td>\n",
       "      <td>95</td>\n",
       "      <td>0</td>\n",
       "      <td>1</td>\n",
       "      <td>Normal</td>\n",
       "      <td>127</td>\n",
       "      <td>N</td>\n",
       "      <td>0.7</td>\n",
       "      <td>Up</td>\n",
       "      <td>1</td>\n",
       "    </tr>\n",
       "    <tr>\n",
       "      <th>295</th>\n",
       "      <td>61</td>\n",
       "      <td>M</td>\n",
       "      <td>ASY</td>\n",
       "      <td>105</td>\n",
       "      <td>0</td>\n",
       "      <td>1</td>\n",
       "      <td>Normal</td>\n",
       "      <td>110</td>\n",
       "      <td>Y</td>\n",
       "      <td>1.5</td>\n",
       "      <td>Up</td>\n",
       "      <td>1</td>\n",
       "    </tr>\n",
       "    <tr>\n",
       "      <th>296</th>\n",
       "      <td>50</td>\n",
       "      <td>M</td>\n",
       "      <td>ASY</td>\n",
       "      <td>145</td>\n",
       "      <td>0</td>\n",
       "      <td>1</td>\n",
       "      <td>Normal</td>\n",
       "      <td>139</td>\n",
       "      <td>Y</td>\n",
       "      <td>0.7</td>\n",
       "      <td>Flat</td>\n",
       "      <td>1</td>\n",
       "    </tr>\n",
       "  </tbody>\n",
       "</table>\n",
       "</div>"
      ],
      "text/plain": [
       "     age sex chestpaintype  restingbp  cholesterol  fastingbs restingecg  \\\n",
       "98    56   M           ASY        120           85          0     Normal   \n",
       "293   65   M           ASY        115            0          0     Normal   \n",
       "294   32   M            TA         95            0          1     Normal   \n",
       "295   61   M           ASY        105            0          1     Normal   \n",
       "296   50   M           ASY        145            0          1     Normal   \n",
       "\n",
       "     maxhr exerciseangina  oldpeak st_slope  heartdisease  \n",
       "98     140              N      0.0       Up             0  \n",
       "293     93              Y      0.0     Flat             1  \n",
       "294    127              N      0.7       Up             1  \n",
       "295    110              Y      1.5       Up             1  \n",
       "296    139              Y      0.7     Flat             1  "
      ]
     },
     "execution_count": 16,
     "metadata": {},
     "output_type": "execute_result"
    }
   ],
   "source": [
    "# Strange values\n",
    "cholesterol_df = df[df.cholesterol < 100]\n",
    "cholesterol_df.head()"
   ]
  },
  {
   "cell_type": "code",
   "execution_count": 17,
   "id": "495647e1-4636-4137-9dab-dc108ba90ba4",
   "metadata": {},
   "outputs": [
    {
     "data": {
      "text/plain": [
       "array([85,  0])"
      ]
     },
     "execution_count": 17,
     "metadata": {},
     "output_type": "execute_result"
    }
   ],
   "source": [
    "cholesterol_df.cholesterol.unique()"
   ]
  },
  {
   "cell_type": "markdown",
   "id": "8fa03f68-ccf8-401a-81fe-bd94db677460",
   "metadata": {},
   "source": [
    "## Max HR"
   ]
  },
  {
   "cell_type": "code",
   "execution_count": 18,
   "id": "9fcf42a9-5ebe-47ea-9521-06837273b321",
   "metadata": {},
   "outputs": [
    {
     "data": {
      "text/plain": [
       "<Axes: xlabel='maxhr', ylabel='Count'>"
      ]
     },
     "execution_count": 18,
     "metadata": {},
     "output_type": "execute_result"
    },
    {
     "data": {
      "image/png": "[encoded data removed]",
      "text/plain": [
       "<Figure size 640x480 with 1 Axes>"
      ]
     },
     "metadata": {},
     "output_type": "display_data"
    }
   ],
   "source": [
    "sns.histplot(df.maxhr, bins=50)"
   ]
  },
  {
   "cell_type": "markdown",
   "id": "7a328de0-6cda-4c3b-bb88-ef8d316df053",
   "metadata": {},
   "source": [
    "## Old Peak"
   ]
  },
  {
   "cell_type": "code",
   "execution_count": 19,
   "id": "fa2b3e67-c580-42ec-9be7-d9b142fb16ae",
   "metadata": {},
   "outputs": [
    {
     "data": {
      "text/plain": [
       "<Axes: xlabel='oldpeak', ylabel='Count'>"
      ]
     },
     "execution_count": 19,
     "metadata": {},
     "output_type": "execute_result"
    },
    {
     "data": {
      "image/png": "[encoded data removed]",
      "text/plain": [
       "<Figure size 640x480 with 1 Axes>"
      ]
     },
     "metadata": {},
     "output_type": "display_data"
    }
   ],
   "source": [
    "sns.histplot(df.oldpeak, bins=50)"
   ]
  },
  {
   "cell_type": "markdown",
   "id": "d863a30f",
   "metadata": {},
   "source": [
    "## Risk Ratio"
   ]
  },
  {
   "cell_type": "code",
   "execution_count": 20,
   "id": "b02e661e",
   "metadata": {},
   "outputs": [
    {
     "name": "stdout",
     "output_type": "stream",
     "text": [
      "sex\n"
     ]
    },
    {
     "data": {
      "text/html": [
       "<div>\n",
       "<style scoped>\n",
       "    .dataframe tbody tr th:only-of-type {\n",
       "        vertical-align: middle;\n",
       "    }\n",
       "\n",
       "    .dataframe tbody tr th {\n",
       "        vertical-align: top;\n",
       "    }\n",
       "\n",
       "    .dataframe thead th {\n",
       "        text-align: right;\n",
       "    }\n",
       "</style>\n",
       "<table border=\"1\" class=\"dataframe\">\n",
       "  <thead>\n",
       "    <tr style=\"text-align: right;\">\n",
       "      <th></th>\n",
       "      <th>mean</th>\n",
       "      <th>count</th>\n",
       "      <th>diff</th>\n",
       "      <th>risk</th>\n",
       "    </tr>\n",
       "    <tr>\n",
       "      <th>sex</th>\n",
       "      <th></th>\n",
       "      <th></th>\n",
       "      <th></th>\n",
       "      <th></th>\n",
       "    </tr>\n",
       "  </thead>\n",
       "  <tbody>\n",
       "    <tr>\n",
       "      <th>F</th>\n",
       "      <td>0.253012</td>\n",
       "      <td>166</td>\n",
       "      <td>-0.293309</td>\n",
       "      <td>0.463119</td>\n",
       "    </tr>\n",
       "    <tr>\n",
       "      <th>M</th>\n",
       "      <td>0.632042</td>\n",
       "      <td>568</td>\n",
       "      <td>0.085721</td>\n",
       "      <td>1.156905</td>\n",
       "    </tr>\n",
       "  </tbody>\n",
       "</table>\n",
       "</div>"
      ],
      "text/plain": [
       "         mean  count      diff      risk\n",
       "sex                                     \n",
       "F    0.253012    166 -0.293309  0.463119\n",
       "M    0.632042    568  0.085721  1.156905"
      ]
     },
     "metadata": {},
     "output_type": "display_data"
    },
    {
     "name": "stdout",
     "output_type": "stream",
     "text": [
      "\n",
      "\n",
      "chestpaintype\n"
     ]
    },
    {
     "data": {
      "text/html": [
       "<div>\n",
       "<style scoped>\n",
       "    .dataframe tbody tr th:only-of-type {\n",
       "        vertical-align: middle;\n",
       "    }\n",
       "\n",
       "    .dataframe tbody tr th {\n",
       "        vertical-align: top;\n",
       "    }\n",
       "\n",
       "    .dataframe thead th {\n",
       "        text-align: right;\n",
       "    }\n",
       "</style>\n",
       "<table border=\"1\" class=\"dataframe\">\n",
       "  <thead>\n",
       "    <tr style=\"text-align: right;\">\n",
       "      <th></th>\n",
       "      <th>mean</th>\n",
       "      <th>count</th>\n",
       "      <th>diff</th>\n",
       "      <th>risk</th>\n",
       "    </tr>\n",
       "    <tr>\n",
       "      <th>chestpaintype</th>\n",
       "      <th></th>\n",
       "      <th></th>\n",
       "      <th></th>\n",
       "      <th></th>\n",
       "    </tr>\n",
       "  </thead>\n",
       "  <tbody>\n",
       "    <tr>\n",
       "      <th>ASY</th>\n",
       "      <td>0.770574</td>\n",
       "      <td>401</td>\n",
       "      <td>0.224252</td>\n",
       "      <td>1.410476</td>\n",
       "    </tr>\n",
       "    <tr>\n",
       "      <th>ATA</th>\n",
       "      <td>0.136691</td>\n",
       "      <td>139</td>\n",
       "      <td>-0.409631</td>\n",
       "      <td>0.250202</td>\n",
       "    </tr>\n",
       "    <tr>\n",
       "      <th>NAP</th>\n",
       "      <td>0.364198</td>\n",
       "      <td>162</td>\n",
       "      <td>-0.182124</td>\n",
       "      <td>0.666636</td>\n",
       "    </tr>\n",
       "    <tr>\n",
       "      <th>TA</th>\n",
       "      <td>0.437500</td>\n",
       "      <td>32</td>\n",
       "      <td>-0.108822</td>\n",
       "      <td>0.800810</td>\n",
       "    </tr>\n",
       "  </tbody>\n",
       "</table>\n",
       "</div>"
      ],
      "text/plain": [
       "                   mean  count      diff      risk\n",
       "chestpaintype                                     \n",
       "ASY            0.770574    401  0.224252  1.410476\n",
       "ATA            0.136691    139 -0.409631  0.250202\n",
       "NAP            0.364198    162 -0.182124  0.666636\n",
       "TA             0.437500     32 -0.108822  0.800810"
      ]
     },
     "metadata": {},
     "output_type": "display_data"
    },
    {
     "name": "stdout",
     "output_type": "stream",
     "text": [
      "\n",
      "\n",
      "fastingbs\n"
     ]
    },
    {
     "data": {
      "text/html": [
       "<div>\n",
       "<style scoped>\n",
       "    .dataframe tbody tr th:only-of-type {\n",
       "        vertical-align: middle;\n",
       "    }\n",
       "\n",
       "    .dataframe tbody tr th {\n",
       "        vertical-align: top;\n",
       "    }\n",
       "\n",
       "    .dataframe thead th {\n",
       "        text-align: right;\n",
       "    }\n",
       "</style>\n",
       "<table border=\"1\" class=\"dataframe\">\n",
       "  <thead>\n",
       "    <tr style=\"text-align: right;\">\n",
       "      <th></th>\n",
       "      <th>mean</th>\n",
       "      <th>count</th>\n",
       "      <th>diff</th>\n",
       "      <th>risk</th>\n",
       "    </tr>\n",
       "    <tr>\n",
       "      <th>fastingbs</th>\n",
       "      <th></th>\n",
       "      <th></th>\n",
       "      <th></th>\n",
       "      <th></th>\n",
       "    </tr>\n",
       "  </thead>\n",
       "  <tbody>\n",
       "    <tr>\n",
       "      <th>0</th>\n",
       "      <td>0.476190</td>\n",
       "      <td>567</td>\n",
       "      <td>-0.070131</td>\n",
       "      <td>0.871630</td>\n",
       "    </tr>\n",
       "    <tr>\n",
       "      <th>1</th>\n",
       "      <td>0.784431</td>\n",
       "      <td>167</td>\n",
       "      <td>0.238110</td>\n",
       "      <td>1.435842</td>\n",
       "    </tr>\n",
       "  </tbody>\n",
       "</table>\n",
       "</div>"
      ],
      "text/plain": [
       "               mean  count      diff      risk\n",
       "fastingbs                                     \n",
       "0          0.476190    567 -0.070131  0.871630\n",
       "1          0.784431    167  0.238110  1.435842"
      ]
     },
     "metadata": {},
     "output_type": "display_data"
    },
    {
     "name": "stdout",
     "output_type": "stream",
     "text": [
      "\n",
      "\n",
      "restingecg\n"
     ]
    },
    {
     "data": {
      "text/html": [
       "<div>\n",
       "<style scoped>\n",
       "    .dataframe tbody tr th:only-of-type {\n",
       "        vertical-align: middle;\n",
       "    }\n",
       "\n",
       "    .dataframe tbody tr th {\n",
       "        vertical-align: top;\n",
       "    }\n",
       "\n",
       "    .dataframe thead th {\n",
       "        text-align: right;\n",
       "    }\n",
       "</style>\n",
       "<table border=\"1\" class=\"dataframe\">\n",
       "  <thead>\n",
       "    <tr style=\"text-align: right;\">\n",
       "      <th></th>\n",
       "      <th>mean</th>\n",
       "      <th>count</th>\n",
       "      <th>diff</th>\n",
       "      <th>risk</th>\n",
       "    </tr>\n",
       "    <tr>\n",
       "      <th>restingecg</th>\n",
       "      <th></th>\n",
       "      <th></th>\n",
       "      <th></th>\n",
       "      <th></th>\n",
       "    </tr>\n",
       "  </thead>\n",
       "  <tbody>\n",
       "    <tr>\n",
       "      <th>LVH</th>\n",
       "      <td>0.563758</td>\n",
       "      <td>149</td>\n",
       "      <td>0.017437</td>\n",
       "      <td>1.031917</td>\n",
       "    </tr>\n",
       "    <tr>\n",
       "      <th>Normal</th>\n",
       "      <td>0.509009</td>\n",
       "      <td>444</td>\n",
       "      <td>-0.037313</td>\n",
       "      <td>0.931702</td>\n",
       "    </tr>\n",
       "    <tr>\n",
       "      <th>ST</th>\n",
       "      <td>0.645390</td>\n",
       "      <td>141</td>\n",
       "      <td>0.099069</td>\n",
       "      <td>1.181337</td>\n",
       "    </tr>\n",
       "  </tbody>\n",
       "</table>\n",
       "</div>"
      ],
      "text/plain": [
       "                mean  count      diff      risk\n",
       "restingecg                                     \n",
       "LVH         0.563758    149  0.017437  1.031917\n",
       "Normal      0.509009    444 -0.037313  0.931702\n",
       "ST          0.645390    141  0.099069  1.181337"
      ]
     },
     "metadata": {},
     "output_type": "display_data"
    },
    {
     "name": "stdout",
     "output_type": "stream",
     "text": [
      "\n",
      "\n",
      "exerciseangina\n"
     ]
    },
    {
     "data": {
      "text/html": [
       "<div>\n",
       "<style scoped>\n",
       "    .dataframe tbody tr th:only-of-type {\n",
       "        vertical-align: middle;\n",
       "    }\n",
       "\n",
       "    .dataframe tbody tr th {\n",
       "        vertical-align: top;\n",
       "    }\n",
       "\n",
       "    .dataframe thead th {\n",
       "        text-align: right;\n",
       "    }\n",
       "</style>\n",
       "<table border=\"1\" class=\"dataframe\">\n",
       "  <thead>\n",
       "    <tr style=\"text-align: right;\">\n",
       "      <th></th>\n",
       "      <th>mean</th>\n",
       "      <th>count</th>\n",
       "      <th>diff</th>\n",
       "      <th>risk</th>\n",
       "    </tr>\n",
       "    <tr>\n",
       "      <th>exerciseangina</th>\n",
       "      <th></th>\n",
       "      <th></th>\n",
       "      <th></th>\n",
       "      <th></th>\n",
       "    </tr>\n",
       "  </thead>\n",
       "  <tbody>\n",
       "    <tr>\n",
       "      <th>N</th>\n",
       "      <td>0.327146</td>\n",
       "      <td>431</td>\n",
       "      <td>-0.219175</td>\n",
       "      <td>0.598816</td>\n",
       "    </tr>\n",
       "    <tr>\n",
       "      <th>Y</th>\n",
       "      <td>0.858086</td>\n",
       "      <td>303</td>\n",
       "      <td>0.311764</td>\n",
       "      <td>1.570661</td>\n",
       "    </tr>\n",
       "  </tbody>\n",
       "</table>\n",
       "</div>"
      ],
      "text/plain": [
       "                    mean  count      diff      risk\n",
       "exerciseangina                                     \n",
       "N               0.327146    431 -0.219175  0.598816\n",
       "Y               0.858086    303  0.311764  1.570661"
      ]
     },
     "metadata": {},
     "output_type": "display_data"
    },
    {
     "name": "stdout",
     "output_type": "stream",
     "text": [
      "\n",
      "\n",
      "st_slope\n"
     ]
    },
    {
     "data": {
      "text/html": [
       "<div>\n",
       "<style scoped>\n",
       "    .dataframe tbody tr th:only-of-type {\n",
       "        vertical-align: middle;\n",
       "    }\n",
       "\n",
       "    .dataframe tbody tr th {\n",
       "        vertical-align: top;\n",
       "    }\n",
       "\n",
       "    .dataframe thead th {\n",
       "        text-align: right;\n",
       "    }\n",
       "</style>\n",
       "<table border=\"1\" class=\"dataframe\">\n",
       "  <thead>\n",
       "    <tr style=\"text-align: right;\">\n",
       "      <th></th>\n",
       "      <th>mean</th>\n",
       "      <th>count</th>\n",
       "      <th>diff</th>\n",
       "      <th>risk</th>\n",
       "    </tr>\n",
       "    <tr>\n",
       "      <th>st_slope</th>\n",
       "      <th></th>\n",
       "      <th></th>\n",
       "      <th></th>\n",
       "      <th></th>\n",
       "    </tr>\n",
       "  </thead>\n",
       "  <tbody>\n",
       "    <tr>\n",
       "      <th>Down</th>\n",
       "      <td>0.770833</td>\n",
       "      <td>48</td>\n",
       "      <td>0.224512</td>\n",
       "      <td>1.410952</td>\n",
       "    </tr>\n",
       "    <tr>\n",
       "      <th>Flat</th>\n",
       "      <td>0.817942</td>\n",
       "      <td>379</td>\n",
       "      <td>0.271620</td>\n",
       "      <td>1.497181</td>\n",
       "    </tr>\n",
       "    <tr>\n",
       "      <th>Up</th>\n",
       "      <td>0.175896</td>\n",
       "      <td>307</td>\n",
       "      <td>-0.370426</td>\n",
       "      <td>0.321964</td>\n",
       "    </tr>\n",
       "  </tbody>\n",
       "</table>\n",
       "</div>"
      ],
      "text/plain": [
       "              mean  count      diff      risk\n",
       "st_slope                                     \n",
       "Down      0.770833     48  0.224512  1.410952\n",
       "Flat      0.817942    379  0.271620  1.497181\n",
       "Up        0.175896    307 -0.370426  0.321964"
      ]
     },
     "metadata": {},
     "output_type": "display_data"
    },
    {
     "name": "stdout",
     "output_type": "stream",
     "text": [
      "\n",
      "\n"
     ]
    }
   ],
   "source": [
    "from IPython.display import display\n",
    "\n",
    "global_heartdisease = df_full_train.heartdisease.mean()\n",
    "\n",
    "for c in categorical:\n",
    "    print(c)\n",
    "    df_group = df_full_train.groupby(c).heartdisease.agg(['mean', 'count'])\n",
    "    df_group['diff'] = df_group['mean'] - global_heartdisease\n",
    "    df_group['risk'] = df_group['mean'] / global_heartdisease\n",
    "    display(df_group)\n",
    "    print()\n",
    "    print()"
   ]
  },
  {
   "cell_type": "markdown",
   "id": "18ec011c-f2a4-4617-8198-e79f342d8347",
   "metadata": {},
   "source": [
    "## Mutial information"
   ]
  },
  {
   "cell_type": "code",
   "execution_count": 21,
   "id": "20c67e55",
   "metadata": {},
   "outputs": [
    {
     "data": {
      "text/plain": [
       "st_slope          0.214106\n",
       "exerciseangina    0.149062\n",
       "chestpaintype     0.144451\n",
       "sex               0.051851\n",
       "fastingbs         0.035691\n",
       "restingecg        0.005695\n",
       "dtype: float64"
      ]
     },
     "execution_count": 21,
     "metadata": {},
     "output_type": "execute_result"
    }
   ],
   "source": [
    "from sklearn.metrics import mutual_info_score\n",
    "\n",
    "def mutual_info_heartdisease_score(series):\n",
    "    return mutual_info_score(series, df_full_train.heartdisease)\n",
    "\n",
    "mi = df_full_train[categorical].apply(mutual_info_heartdisease_score)\n",
    "mi.sort_values(ascending=False)"
   ]
  },
  {
   "cell_type": "markdown",
   "id": "2ea7ab60",
   "metadata": {},
   "source": [
    "## Correlation"
   ]
  },
  {
   "cell_type": "code",
   "execution_count": 22,
   "id": "ce058129",
   "metadata": {},
   "outputs": [
    {
     "data": {
      "text/plain": [
       "oldpeak        0.422740\n",
       "maxhr          0.414676\n",
       "age            0.299410\n",
       "cholesterol    0.251893\n",
       "restingbp      0.138611\n",
       "dtype: float64"
      ]
     },
     "execution_count": 22,
     "metadata": {},
     "output_type": "execute_result"
    }
   ],
   "source": [
    "df_full_train[numerical].corrwith(df_full_train.heartdisease).abs().sort_values(ascending=False)"
   ]
  },
  {
   "cell_type": "markdown",
   "id": "25626828",
   "metadata": {},
   "source": [
    "## Version 0 - Simple Logistic Regression"
   ]
  },
  {
   "cell_type": "code",
   "execution_count": 23,
   "id": "a4e759e9",
   "metadata": {},
   "outputs": [],
   "source": [
    "from sklearn.feature_extraction import DictVectorizer\n",
    "from sklearn.linear_model import LogisticRegression\n",
    "from sklearn.metrics import roc_auc_score, accuracy_score\n",
    "\n",
    "from pprint import pp"
   ]
  },
  {
   "cell_type": "code",
   "execution_count": 24,
   "id": "d0d1b75d",
   "metadata": {},
   "outputs": [
    {
     "name": "stdout",
     "output_type": "stream",
     "text": [
      "Accuracy: 0.8859\n",
      "ROC AUC Score 0.9432\n",
      "\n",
      "{'age': 0.012,\n",
      " 'chestpaintype=ASY': 0.999,\n",
      " 'chestpaintype=ATA': -0.34,\n",
      " 'chestpaintype=NAP': -0.516,\n",
      " 'chestpaintype=TA': -0.168,\n",
      " 'cholesterol': -0.006,\n",
      " 'exerciseangina=N': -0.564,\n",
      " 'exerciseangina=Y': 0.539,\n",
      " 'fastingbs': 0.698,\n",
      " 'maxhr': -0.003,\n",
      " 'oldpeak': 0.473,\n",
      " 'restingbp': -0.001,\n",
      " 'restingecg=LVH': 0.216,\n",
      " 'restingecg=Normal': 0.021,\n",
      " 'restingecg=ST': -0.262,\n",
      " 'sex=F': -0.651,\n",
      " 'sex=M': 0.627,\n",
      " 'st_slope=Down': -0.389,\n",
      " 'st_slope=Flat': 1.292,\n",
      " 'st_slope=Up': -0.928}\n"
     ]
    }
   ],
   "source": [
    "def version0():\n",
    "\n",
    "    columns = categorical + numerical\n",
    "\n",
    "    dv = DictVectorizer(sparse=False)\n",
    "\n",
    "    train_dict = df_train[columns].to_dict(orient='records')\n",
    "    X_train = dv.fit_transform(train_dict)\n",
    "\n",
    "    val_dict = df_val[columns].to_dict(orient='records')\n",
    "    X_val = dv.transform(val_dict)\n",
    "\n",
    "    model = LogisticRegression(solver='lbfgs', max_iter=1000)\n",
    "    model.fit(X_train, y_train)\n",
    "\n",
    "    y_pred = model.predict_proba(X_val)[:, 1]\n",
    "\n",
    "    print(f\"Accuracy: {accuracy_score(y_val, y_pred >= 0.5):.4f}\")\n",
    "    print(f\"ROC AUC Score {roc_auc_score(y_val, y_pred):.4f}\")\n",
    "    print()\n",
    "\n",
    "    pp(dict(zip(dv.get_feature_names_out(), model.coef_[0].round(3))))\n",
    "\n",
    "version0()\n"
   ]
  },
  {
   "cell_type": "markdown",
   "id": "621f96fe",
   "metadata": {},
   "source": [
    "## Version 1 - Less Features"
   ]
  },
  {
   "cell_type": "code",
   "execution_count": 25,
   "id": "5a727cfe",
   "metadata": {},
   "outputs": [
    {
     "name": "stdout",
     "output_type": "stream",
     "text": [
      "Accuracy: 0.8859\n",
      "ROC AUC Score 0.9490\n",
      "\n",
      "{'age': 0.01,\n",
      " 'chestpaintype=ASY': 0.947,\n",
      " 'chestpaintype=ATA': -0.502,\n",
      " 'chestpaintype=NAP': -0.424,\n",
      " 'chestpaintype=TA': -0.224,\n",
      " 'exerciseangina=N': -0.605,\n",
      " 'exerciseangina=Y': 0.402,\n",
      " 'fastingbs': 0.865,\n",
      " 'maxhr': -0.008,\n",
      " 'oldpeak': 0.411,\n",
      " 'sex=F': -0.848,\n",
      " 'sex=M': 0.645,\n",
      " 'st_slope=Down': -0.323,\n",
      " 'st_slope=Flat': 1.131,\n",
      " 'st_slope=Up': -1.012}\n"
     ]
    }
   ],
   "source": [
    "def version1():\n",
    "\n",
    "    columns = [\n",
    "        # Categorical\n",
    "        'st_slope',\n",
    "        'chestpaintype', \n",
    "        'exerciseangina',\n",
    "        'sex', \n",
    "        'fastingbs', \n",
    "        # 'restingecg', \n",
    "            \n",
    "        # Numerical\n",
    "        'maxhr',\n",
    "        'oldpeak',\n",
    "        'age', \n",
    "        # 'cholesterol', \n",
    "        # 'restingbp', \n",
    "    ]\n",
    "\n",
    "    dv = DictVectorizer(sparse=False)\n",
    "\n",
    "    train_dict = df_train[columns].to_dict(orient='records')\n",
    "    X_train = dv.fit_transform(train_dict)\n",
    "\n",
    "    val_dict = df_val[columns].to_dict(orient='records')\n",
    "    X_val = dv.transform(val_dict)\n",
    "\n",
    "    model = LogisticRegression(solver='lbfgs', max_iter=1000)\n",
    "    model.fit(X_train, y_train)\n",
    "\n",
    "    y_pred = model.predict_proba(X_val)[:, 1]\n",
    "    heartdisease_decision = (y_pred >= 0.5)\n",
    "\n",
    "    df_pred = pd.DataFrame()\n",
    "    df_pred['probability'] = y_pred\n",
    "    df_pred['prediction'] = heartdisease_decision.astype(int)\n",
    "    df_pred['actual'] = y_val\n",
    "\n",
    "    df_pred['correct'] = df_pred.prediction == df_pred.actual\n",
    "\n",
    "    print(f\"Accuracy: {accuracy_score(y_val, y_pred >= 0.5):.4f}\")\n",
    "    print(f\"ROC AUC Score {roc_auc_score(y_val, y_pred):.4f}\")\n",
    "    print()\n",
    "\n",
    "    pp(dict(zip(dv.get_feature_names_out(), model.coef_[0].round(3))))\n",
    "\n",
    "version1()\n"
   ]
  },
  {
   "cell_type": "markdown",
   "id": "d6f0c4d3",
   "metadata": {},
   "source": [
    "## Version 2 - Choosing threshold"
   ]
  },
  {
   "cell_type": "code",
   "execution_count": 26,
   "id": "686d908f",
   "metadata": {},
   "outputs": [
    {
     "name": "stdout",
     "output_type": "stream",
     "text": [
      "0.00 0.5761\n",
      "0.01 0.5761\n",
      "0.02 0.6141\n",
      "0.03 0.6304\n",
      "0.04 0.6576\n",
      "0.05 0.6576\n",
      "0.06 0.6630\n",
      "0.07 0.6902\n",
      "0.08 0.7283\n",
      "0.09 0.7609\n",
      "0.10 0.7663\n",
      "0.11 0.7989\n",
      "0.12 0.7989\n",
      "0.13 0.8043\n",
      "0.14 0.8261\n",
      "0.15 0.8370\n",
      "0.16 0.8370\n",
      "0.17 0.8424\n",
      "0.18 0.8424\n",
      "0.19 0.8424\n",
      "0.20 0.8478\n",
      "0.21 0.8424\n",
      "0.22 0.8478\n",
      "0.23 0.8587\n",
      "0.24 0.8587\n",
      "0.25 0.8641\n",
      "0.26 0.8641\n",
      "0.27 0.8696\n",
      "0.28 0.8750\n",
      "0.29 0.8859\n",
      "0.30 0.8913\n",
      "0.31 0.8913\n",
      "0.32 0.8913\n",
      "0.33 0.8913\n",
      "0.34 0.8913\n",
      "0.35 0.8913\n",
      "0.36 0.8967\n",
      "0.37 0.8967\n",
      "0.38 0.8967\n",
      "0.39 0.8967\n",
      "0.40 0.9022\n",
      "0.41 0.9022\n",
      "0.42 0.9022\n",
      "0.43 0.8967\n",
      "0.44 0.8913\n",
      "0.45 0.8913\n",
      "0.46 0.8913\n",
      "0.47 0.8913\n",
      "0.48 0.8913\n",
      "0.49 0.8859\n",
      "0.50 0.8859\n",
      "0.51 0.8804\n",
      "0.52 0.8859\n",
      "0.53 0.8913\n",
      "0.54 0.8859\n",
      "0.55 0.8859\n",
      "0.56 0.8913\n",
      "0.57 0.8804\n",
      "0.58 0.8804\n",
      "0.59 0.8804\n",
      "0.60 0.8859\n",
      "0.61 0.8859\n",
      "0.62 0.8859\n",
      "0.63 0.8750\n",
      "0.64 0.8696\n",
      "0.65 0.8696\n",
      "0.66 0.8696\n",
      "0.67 0.8804\n",
      "0.68 0.8859\n",
      "0.69 0.8750\n",
      "0.70 0.8750\n",
      "0.71 0.8750\n",
      "0.72 0.8641\n",
      "0.73 0.8587\n",
      "0.74 0.8533\n",
      "0.75 0.8478\n",
      "0.76 0.8478\n",
      "0.77 0.8478\n",
      "0.78 0.8424\n",
      "0.79 0.8424\n",
      "0.80 0.8478\n",
      "0.81 0.8478\n",
      "0.82 0.8424\n",
      "0.83 0.8261\n",
      "0.84 0.8098\n",
      "0.85 0.8043\n",
      "0.86 0.7989\n",
      "0.87 0.7880\n",
      "0.88 0.7880\n",
      "0.89 0.7826\n",
      "0.90 0.7663\n",
      "0.91 0.7500\n",
      "0.92 0.7228\n",
      "0.93 0.6848\n",
      "0.94 0.6576\n",
      "0.95 0.6359\n",
      "0.96 0.5924\n",
      "0.97 0.5163\n",
      "0.98 0.4457\n",
      "0.99 0.4239\n",
      "1.00 0.4239\n"
     ]
    },
    {
     "data": {
      "image/png": "[encoded data removed]",
      "text/plain": [
       "<Figure size 640x480 with 1 Axes>"
      ]
     },
     "metadata": {},
     "output_type": "display_data"
    }
   ],
   "source": [
    "def version2a():\n",
    "\n",
    "    columns = [\n",
    "        # Categorical\n",
    "        'st_slope',\n",
    "        'chestpaintype', \n",
    "        'exerciseangina',\n",
    "        'sex', \n",
    "        'fastingbs', \n",
    "        # 'restingecg', \n",
    "            \n",
    "        # Numerical\n",
    "        'maxhr',\n",
    "        'oldpeak',\n",
    "        'age', \n",
    "        # 'cholesterol', \n",
    "        # 'restingbp', \n",
    "    ]\n",
    "\n",
    "    dv = DictVectorizer(sparse=False)\n",
    "\n",
    "    train_dict = df_train[columns].to_dict(orient='records')\n",
    "    X_train = dv.fit_transform(train_dict)\n",
    "\n",
    "    val_dict = df_val[columns].to_dict(orient='records')\n",
    "    X_val = dv.transform(val_dict)\n",
    "\n",
    "    model = LogisticRegression(solver='lbfgs', max_iter=1000)\n",
    "    model.fit(X_train, y_train)\n",
    "\n",
    "    y_pred = model.predict_proba(X_val)[:, 1]\n",
    "\n",
    "    # ======================\n",
    "\n",
    "    thresholds = np.linspace(0, 1, 101)\n",
    "\n",
    "    scores = []\n",
    "\n",
    "    for t in thresholds:\n",
    "        score = accuracy_score(y_val, y_pred >= t)\n",
    "        print('%.2f %.4f' % (t, score))\n",
    "        scores.append(score)\n",
    "\n",
    "    plt.plot(thresholds, scores)\n",
    "\n",
    "\n",
    "version2a()\n",
    "\n",
    "\n"
   ]
  },
  {
   "cell_type": "code",
   "execution_count": 27,
   "id": "bb499a79",
   "metadata": {},
   "outputs": [
    {
     "name": "stdout",
     "output_type": "stream",
     "text": [
      "Accuracy: 0.8859\n",
      "ROC AUC Score 0.9490\n",
      "\n",
      "{'age': 0.01,\n",
      " 'chestpaintype=ASY': 0.947,\n",
      " 'chestpaintype=ATA': -0.502,\n",
      " 'chestpaintype=NAP': -0.424,\n",
      " 'chestpaintype=TA': -0.224,\n",
      " 'exerciseangina=N': -0.605,\n",
      " 'exerciseangina=Y': 0.402,\n",
      " 'fastingbs': 0.865,\n",
      " 'maxhr': -0.008,\n",
      " 'oldpeak': 0.411,\n",
      " 'sex=F': -0.848,\n",
      " 'sex=M': 0.645,\n",
      " 'st_slope=Down': -0.323,\n",
      " 'st_slope=Flat': 1.131,\n",
      " 'st_slope=Up': -1.012}\n"
     ]
    }
   ],
   "source": [
    "def version2b():\n",
    "\n",
    "    columns = [\n",
    "        # Categorical\n",
    "        'st_slope',\n",
    "        'chestpaintype', \n",
    "        'exerciseangina',\n",
    "        'sex', \n",
    "        'fastingbs', \n",
    "        # 'restingecg', \n",
    "            \n",
    "        # Numerical\n",
    "        'maxhr',\n",
    "        'oldpeak',\n",
    "        'age', \n",
    "        # 'cholesterol', \n",
    "        # 'restingbp', \n",
    "    ]\n",
    "\n",
    "    dv = DictVectorizer(sparse=False)\n",
    "\n",
    "    train_dict = df_train[columns].to_dict(orient='records')\n",
    "    X_train = dv.fit_transform(train_dict)\n",
    "\n",
    "    val_dict = df_val[columns].to_dict(orient='records')\n",
    "    X_val = dv.transform(val_dict)\n",
    "\n",
    "    model = LogisticRegression(solver='lbfgs', max_iter=1000)\n",
    "    model.fit(X_train, y_train)\n",
    "\n",
    "    y_pred = model.predict_proba(X_val)[:, 1]\n",
    "\n",
    "    print(f\"Accuracy: {accuracy_score(y_val, y_pred >= 0.5):.4f}\")\n",
    "    print(f\"ROC AUC Score {roc_auc_score(y_val, y_pred):.4f}\")\n",
    "    print()\n",
    "\n",
    "    pp(dict(zip(dv.get_feature_names_out(), model.coef_[0].round(3))))\n",
    "\n",
    "version2b()\n"
   ]
  },
  {
   "cell_type": "markdown",
   "id": "7dea2010",
   "metadata": {},
   "source": [
    "## Version 3"
   ]
  },
  {
   "cell_type": "code",
   "execution_count": 28,
   "id": "7f114015",
   "metadata": {},
   "outputs": [],
   "source": [
    "from tqdm.auto import tqdm\n",
    "from sklearn.model_selection import KFold\n"
   ]
  },
  {
   "cell_type": "code",
   "execution_count": 29,
   "id": "10a567a0",
   "metadata": {},
   "outputs": [
    {
     "data": {
      "application/vnd.jupyter.widget-view+json": {
       "model_id": "027500aff37449b3b7b59544c808801b",
       "version_major": 2,
       "version_minor": 0
      },
      "text/plain": [
       "  0%|          | 0/7 [00:00<?, ?it/s]"
      ]
     },
     "metadata": {},
     "output_type": "display_data"
    },
    {
     "name": "stdout",
     "output_type": "stream",
     "text": [
      "C=0.001 0.811 +- 0.044\n",
      "C=0.01 0.897 +- 0.030\n",
      "C=0.1 0.924 +- 0.018\n",
      "C=0.5 0.924 +- 0.018\n",
      "C=1 0.924 +- 0.019\n",
      "C=5 0.924 +- 0.019\n",
      "C=10 0.923 +- 0.019\n"
     ]
    }
   ],
   "source": [
    "def version3():\n",
    "\n",
    "    def train(df_train, y_train, C=1.0):\n",
    "        dicts = df_train[categorical + numerical].to_dict(orient='records')\n",
    "\n",
    "        dv = DictVectorizer(sparse=False)\n",
    "        X_train = dv.fit_transform(dicts)\n",
    "\n",
    "        model = LogisticRegression(C=C, solver='lbfgs', max_iter=2000)\n",
    "        model.fit(X_train, y_train)\n",
    "        \n",
    "        return dv, model\n",
    "    \n",
    "    def predict(df, dv, model):\n",
    "        dicts = df[categorical + numerical].to_dict(orient='records')\n",
    "\n",
    "        X = dv.transform(dicts)\n",
    "        y_pred = model.predict_proba(X)[:, 1]\n",
    "\n",
    "        return y_pred\n",
    "\n",
    "    n_splits = 5\n",
    "\n",
    "    for C in tqdm([0.001, 0.01, 0.1, 0.5, 1, 5, 10]):\n",
    "        kfold = KFold(n_splits=n_splits, shuffle=True, random_state=42)\n",
    "\n",
    "        scores = []\n",
    "\n",
    "        for train_idx, val_idx in kfold.split(df_full_train):\n",
    "            df_train = df_full_train.iloc[train_idx]\n",
    "            df_val = df_full_train.iloc[val_idx]\n",
    "\n",
    "            y_train = df_train.heartdisease.values\n",
    "            y_val = df_val.heartdisease.values\n",
    "\n",
    "            dv, model = train(df_train, y_train, C=C)\n",
    "            y_pred = predict(df_val, dv, model)\n",
    "\n",
    "            auc = roc_auc_score(y_val, y_pred)\n",
    "            scores.append(auc)\n",
    "\n",
    "        print('C=%s %.3f +- %.3f' % (C, np.mean(scores), np.std(scores)))\n",
    "\n",
    "version3()"
   ]
  },
  {
   "cell_type": "code",
   "execution_count": 30,
   "id": "8db2e1e3",
   "metadata": {},
   "outputs": [
    {
     "name": "stdout",
     "output_type": "stream",
     "text": [
      "Accuracy: 0.8859\n",
      "ROC AUC Score 0.9490\n",
      "\n",
      "{'age': 0.01,\n",
      " 'chestpaintype=ASY': 0.947,\n",
      " 'chestpaintype=ATA': -0.502,\n",
      " 'chestpaintype=NAP': -0.424,\n",
      " 'chestpaintype=TA': -0.224,\n",
      " 'exerciseangina=N': -0.605,\n",
      " 'exerciseangina=Y': 0.402,\n",
      " 'fastingbs': 0.865,\n",
      " 'maxhr': -0.008,\n",
      " 'oldpeak': 0.411,\n",
      " 'sex=F': -0.848,\n",
      " 'sex=M': 0.645,\n",
      " 'st_slope=Down': -0.323,\n",
      " 'st_slope=Flat': 1.131,\n",
      " 'st_slope=Up': -1.012}\n"
     ]
    }
   ],
   "source": [
    "def version3a():\n",
    "\n",
    "    columns = [\n",
    "        # Categorical\n",
    "        'st_slope',\n",
    "        'chestpaintype', \n",
    "        'exerciseangina',\n",
    "        'sex', \n",
    "        'fastingbs', \n",
    "        # 'restingecg', \n",
    "            \n",
    "        # Numerical\n",
    "        'maxhr',\n",
    "        'oldpeak',\n",
    "        'age', \n",
    "        # 'cholesterol', \n",
    "        # 'restingbp', \n",
    "    ]\n",
    "    dv = DictVectorizer(sparse=False)\n",
    "\n",
    "    train_dict = df_train[columns].to_dict(orient='records')\n",
    "    X_train = dv.fit_transform(train_dict)\n",
    "\n",
    "    val_dict = df_val[columns].to_dict(orient='records')\n",
    "    X_val = dv.transform(val_dict)\n",
    "\n",
    "    model = LogisticRegression(solver='lbfgs', max_iter=1000, C=1)\n",
    "    model.fit(X_train, y_train)\n",
    "\n",
    "    y_pred = model.predict_proba(X_val)[:, 1]\n",
    "\n",
    "    print(f\"Accuracy: {accuracy_score(y_val, y_pred >= 0.5):.4f}\")\n",
    "    print(f\"ROC AUC Score {roc_auc_score(y_val, y_pred):.4f}\")\n",
    "    print()\n",
    "\n",
    "    pp(dict(zip(dv.get_feature_names_out(), model.coef_[0].round(3))))\n",
    "\n",
    "version3a()\n"
   ]
  },
  {
   "cell_type": "markdown",
   "id": "e22d7ff6",
   "metadata": {},
   "source": [
    "## Version 4 - Random Forest"
   ]
  },
  {
   "cell_type": "code",
   "execution_count": 31,
   "id": "480882c6",
   "metadata": {},
   "outputs": [],
   "source": [
    "from sklearn.ensemble import RandomForestClassifier"
   ]
  },
  {
   "cell_type": "code",
   "execution_count": 32,
   "id": "76f41e47",
   "metadata": {},
   "outputs": [
    {
     "data": {
      "image/png": "[encoded data removed]",
      "text/plain": [
       "<Figure size 640x480 with 1 Axes>"
      ]
     },
     "metadata": {},
     "output_type": "display_data"
    }
   ],
   "source": [
    "def version4():\n",
    "\n",
    "    train_dicts = df_train.fillna(0).to_dict(orient='records')\n",
    "\n",
    "    dv = DictVectorizer(sparse=False)\n",
    "    X_train = dv.fit_transform(train_dicts) \n",
    "\n",
    "    val_dicts = df_val.fillna(0).to_dict(orient='records')\n",
    "    X_val = dv.transform(val_dicts)\n",
    "\n",
    "    scores = []\n",
    "\n",
    "    for d in [5, 10, 15, 20]:\n",
    "        for n in range(10, 201, 10):\n",
    "            rf = RandomForestClassifier(n_estimators=n, max_depth=d, random_state=42)\n",
    "            rf.fit(X_train, y_train)\n",
    "\n",
    "            y_pred = rf.predict_proba(X_val)[:, 1]\n",
    "            auc = roc_auc_score(y_val, y_pred)\n",
    "\n",
    "            scores.append((d, n, auc))\n",
    "\n",
    "    columns = ['max_depth', 'n_estimators', 'auc']\n",
    "    df_scores = pd.DataFrame(scores, columns=columns)\n",
    "\n",
    "    for d in [5, 10, 15, 20]:\n",
    "        df_subset = df_scores[df_scores.max_depth == d]\n",
    "        plt.plot(df_subset.n_estimators, df_subset.auc, label='max_depth=%d' % d)\n",
    "        plt.legend()  \n",
    "\n",
    "version4()"
   ]
  },
  {
   "cell_type": "code",
   "execution_count": 33,
   "id": "935d4ae5",
   "metadata": {},
   "outputs": [],
   "source": [
    "max_depth = 10"
   ]
  },
  {
   "cell_type": "code",
   "execution_count": 34,
   "id": "adecd621",
   "metadata": {},
   "outputs": [
    {
     "data": {
      "image/png": "[encoded data removed]",
      "text/plain": [
       "<Figure size 640x480 with 1 Axes>"
      ]
     },
     "metadata": {},
     "output_type": "display_data"
    }
   ],
   "source": [
    "def version4a():\n",
    "\n",
    "    train_dicts = df_train.fillna(0).to_dict(orient='records')\n",
    "\n",
    "    dv = DictVectorizer(sparse=False)\n",
    "    X_train = dv.fit_transform(train_dicts) \n",
    "\n",
    "    val_dicts = df_val.fillna(0).to_dict(orient='records')\n",
    "    X_val = dv.transform(val_dicts)\n",
    "\n",
    "    scores = []\n",
    "\n",
    "    for s in [1, 3, 5, 10, 50]:\n",
    "        for n in range(10, 201, 10):\n",
    "            rf = RandomForestClassifier(n_estimators=n,\n",
    "                                        max_depth=max_depth,\n",
    "                                        min_samples_leaf=s,\n",
    "                                        random_state=42)\n",
    "            rf.fit(X_train, y_train)\n",
    "\n",
    "            y_pred = rf.predict_proba(X_val)[:, 1]\n",
    "            auc = roc_auc_score(y_val, y_pred)\n",
    "\n",
    "            scores.append((s, n, auc))\n",
    "\n",
    "    columns = ['min_samples_leaf', 'n_estimators', 'auc']\n",
    "    df_scores = pd.DataFrame(scores, columns=columns)\n",
    "\n",
    "    colors = ['black', 'blue', 'orange', 'red', 'grey']\n",
    "    values = [1, 3, 5, 10, 50]\n",
    "\n",
    "    for s, col in zip(values, colors):\n",
    "        df_subset = df_scores[df_scores.min_samples_leaf == s]\n",
    "        \n",
    "        plt.plot(df_subset.n_estimators, df_subset.auc,\n",
    "                color=col,\n",
    "                label='min_samples_leaf=%d' % s)\n",
    "\n",
    "    plt.legend()\n",
    "\n",
    "version4a()"
   ]
  },
  {
   "cell_type": "code",
   "execution_count": 35,
   "id": "c37749a9",
   "metadata": {},
   "outputs": [],
   "source": [
    "min_samples_leaf = 1"
   ]
  },
  {
   "cell_type": "code",
   "execution_count": 36,
   "id": "ce1fa94b",
   "metadata": {},
   "outputs": [
    {
     "name": "stdout",
     "output_type": "stream",
     "text": [
      "Accuracy: 0.9076\n",
      "ROC AUC Score 0.9552\n",
      "\n"
     ]
    }
   ],
   "source": [
    "def version4b():\n",
    "    train_dicts = df_train.fillna(0).to_dict(orient='records')\n",
    "\n",
    "    dv = DictVectorizer(sparse=False)\n",
    "    X_train = dv.fit_transform(train_dicts) \n",
    "\n",
    "    val_dicts = df_val.fillna(0).to_dict(orient='records')\n",
    "    X_val = dv.transform(val_dicts)\n",
    "    \n",
    "    rf = RandomForestClassifier(n_estimators=200,\n",
    "                            max_depth=max_depth,\n",
    "                            min_samples_leaf=min_samples_leaf,\n",
    "                            random_state=42)\n",
    "    rf.fit(X_train, y_train)\n",
    "\n",
    "    y_pred = rf.predict_proba(X_val)[:, 1]\n",
    "\n",
    "    print(f\"Accuracy: {accuracy_score(y_val, y_pred >= 0.5):.4f}\")\n",
    "    print(f\"ROC AUC Score {roc_auc_score(y_val, y_pred):.4f}\")\n",
    "    print()\n",
    "\n",
    "version4b()"
   ]
  },
  {
   "cell_type": "markdown",
   "id": "959e4f6c",
   "metadata": {},
   "source": [
    "## Version 5 - XGBoost"
   ]
  },
  {
   "cell_type": "code",
   "execution_count": 37,
   "id": "eb1a6e88",
   "metadata": {},
   "outputs": [],
   "source": [
    "import xgboost as xgb"
   ]
  },
  {
   "cell_type": "code",
   "execution_count": 38,
   "id": "c89caad0",
   "metadata": {},
   "outputs": [
    {
     "name": "stdout",
     "output_type": "stream",
     "text": [
      "Accuracy: 0.9076\n",
      "ROC AUC Score 0.9582\n",
      "\n"
     ]
    },
    {
     "data": {
      "image/png": "[encoded data removed]",
      "text/plain": [
       "<Figure size 640x480 with 1 Axes>"
      ]
     },
     "metadata": {},
     "output_type": "display_data"
    }
   ],
   "source": [
    "def convert_xgb_eval_results(evals_result: dict) -> pd.DataFrame:\n",
    "    train_metric = evals_result['train']['auc']\n",
    "    valid_metric = evals_result['val']['auc']\n",
    "\n",
    "    df = pd.DataFrame({'train_auc': train_metric, 'val_auc': valid_metric})\n",
    "    df.index = np.arange(1, len(df) + 1)\n",
    "    df.index.name = 'boosting round'\n",
    "\n",
    "    return df\n",
    "\n",
    "def version5():\n",
    "    train_dicts = df_train.fillna(0).to_dict(orient='records')\n",
    "\n",
    "    dv = DictVectorizer(sparse=False)\n",
    "    X_train = dv.fit_transform(train_dicts) \n",
    "\n",
    "    val_dicts = df_val.fillna(0).to_dict(orient='records')\n",
    "    X_val = dv.transform(val_dicts)\n",
    "\n",
    "    features = dv.get_feature_names_out()\n",
    "    dtrain = xgb.DMatrix(X_train, label=y_train, feature_names=features)\n",
    "    dval = xgb.DMatrix(X_val, label=y_val, feature_names=features)\n",
    "\n",
    "    xgb_params = {\n",
    "        'eta': 0.06, \n",
    "        'max_depth': 10,\n",
    "        'min_child_weight': 1,\n",
    "        \n",
    "        'objective': 'binary:logistic',\n",
    "        'nthread': 8,\n",
    "        \n",
    "        'seed': 42,\n",
    "        'verbosity': 0,\n",
    "\n",
    "        'eval_metric': 'auc',\n",
    "    }\n",
    "\n",
    "    watchlist = [(dtrain, 'train'), (dval, 'val')]\n",
    "\n",
    "    evals_result = {}\n",
    "\n",
    "    model = xgb.train(\n",
    "        xgb_params, \n",
    "        dtrain, \n",
    "        num_boost_round=200, \n",
    "        evals=watchlist, \n",
    "        evals_result=evals_result,\n",
    "        # early_stopping_rounds=10,\n",
    "        verbose_eval=False\n",
    "    )\n",
    "\n",
    "    y_pred = model.predict(dval)\n",
    "\n",
    "    print(f\"Accuracy: {accuracy_score(y_val, y_pred >= 0.5):.4f}\")\n",
    "    print(f\"ROC AUC Score {roc_auc_score(y_val, y_pred):.4f}\")\n",
    "    print()\n",
    "\n",
    "    df_scores = convert_xgb_eval_results(evals_result)\n",
    "\n",
    "    plt.plot(df_scores.index, df_scores.train_auc, label='train')\n",
    "    plt.plot(df_scores.index, df_scores.val_auc, label='val')\n",
    "    plt.legend()\n",
    "\n",
    "version5()"
   ]
  },
  {
   "cell_type": "markdown",
   "id": "eb1dd104",
   "metadata": {},
   "source": [
    "## Full train"
   ]
  },
  {
   "cell_type": "code",
   "execution_count": 39,
   "id": "a74e6736",
   "metadata": {},
   "outputs": [],
   "source": [
    "y_full_train = df_full_train.heartdisease.values\n",
    "del df_full_train['heartdisease']"
   ]
  },
  {
   "cell_type": "code",
   "execution_count": 40,
   "id": "9162502a",
   "metadata": {},
   "outputs": [
    {
     "name": "stdout",
     "output_type": "stream",
     "text": [
      "Accuracy: 0.8587\n",
      "ROC AUC Score 0.9278\n",
      "\n"
     ]
    }
   ],
   "source": [
    "def version3_full_train():\n",
    "\n",
    "    columns = [\n",
    "        # Categorical\n",
    "        'st_slope',\n",
    "        'chestpaintype', \n",
    "        'exerciseangina',\n",
    "        'sex', \n",
    "        'fastingbs', \n",
    "        # 'restingecg', \n",
    "            \n",
    "        # Numerical\n",
    "        'maxhr',\n",
    "        'oldpeak',\n",
    "        'age', \n",
    "        # 'cholesterol', \n",
    "        # 'restingbp', \n",
    "    ]\n",
    "    \n",
    "    full_train_dicts = df_full_train[columns].to_dict(orient='records')\n",
    "\n",
    "    dv = DictVectorizer(sparse=False)\n",
    "    X_full_train = dv.fit_transform(full_train_dicts) \n",
    "\n",
    "    test_dicts = df_test[columns].to_dict(orient='records')\n",
    "    X_test = dv.transform(test_dicts)\n",
    "    \n",
    "    model = LogisticRegression(solver='lbfgs', max_iter=1000, C=1)\n",
    "    model.fit(X_full_train, y_full_train)\n",
    "\n",
    "    y_pred = model.predict_proba(X_test)[:, 1]\n",
    "\n",
    "    print(f\"Accuracy: {accuracy_score(y_test, y_pred >= 0.5):.4f}\")\n",
    "    print(f\"ROC AUC Score {roc_auc_score(y_test, y_pred):.4f}\")\n",
    "    print()\n",
    "\n",
    "version3_full_train()"
   ]
  },
  {
   "cell_type": "code",
   "execution_count": 41,
   "id": "eabdf5f2",
   "metadata": {},
   "outputs": [
    {
     "name": "stdout",
     "output_type": "stream",
     "text": [
      "Accuracy: 0.8750\n",
      "ROC AUC Score 0.9441\n",
      "\n"
     ]
    },
    {
     "data": {
      "text/plain": [
       "(DictVectorizer(sparse=False),\n",
       " RandomForestClassifier(max_depth=10, n_estimators=200, random_state=42))"
      ]
     },
     "execution_count": 41,
     "metadata": {},
     "output_type": "execute_result"
    }
   ],
   "source": [
    "def version4_full_train():\n",
    "    \n",
    "    full_train_dicts = df_full_train.to_dict(orient='records')\n",
    "\n",
    "    dv = DictVectorizer(sparse=False)\n",
    "    X_full_train = dv.fit_transform(full_train_dicts) \n",
    "\n",
    "    test_dicts = df_test.to_dict(orient='records')\n",
    "    X_test = dv.transform(test_dicts)\n",
    "    \n",
    "    rf = RandomForestClassifier(n_estimators=200,\n",
    "                            max_depth=10,\n",
    "                            min_samples_leaf=1,\n",
    "                            random_state=42)\n",
    "    rf.fit(X_full_train, y_full_train)\n",
    "\n",
    "    y_pred = rf.predict_proba(X_test)[:, 1]\n",
    "\n",
    "    print(f\"Accuracy: {accuracy_score(y_test, y_pred >= 0.5):.4f}\")\n",
    "    print(f\"ROC AUC Score {roc_auc_score(y_test, y_pred):.4f}\")\n",
    "    print()\n",
    "\n",
    "    return dv, rf\n",
    "\n",
    "version4_full_train()"
   ]
  },
  {
   "cell_type": "code",
   "execution_count": 42,
   "id": "9868d6dd",
   "metadata": {},
   "outputs": [
    {
     "name": "stdout",
     "output_type": "stream",
     "text": [
      "Accuracy: 0.8750\n",
      "ROC AUC Score 0.9413\n",
      "\n"
     ]
    }
   ],
   "source": [
    "def version5_full_train():\n",
    "    full_train_dicts = df_full_train.to_dict(orient='records')\n",
    "\n",
    "    dv = DictVectorizer(sparse=False)\n",
    "    X_full_train = dv.fit_transform(full_train_dicts) \n",
    "\n",
    "    test_dicts = df_test.to_dict(orient='records')\n",
    "    X_test = dv.transform(test_dicts)\n",
    "\n",
    "    features = dv.get_feature_names_out()\n",
    "    dtrain = xgb.DMatrix(X_full_train, label=y_full_train, feature_names=features)\n",
    "    dval = xgb.DMatrix(X_test, label=y_test, feature_names=features)\n",
    "\n",
    "    xgb_params = {\n",
    "        'eta': 0.06, \n",
    "        'max_depth': 10,\n",
    "        'min_child_weight': 1,\n",
    "        \n",
    "        'objective': 'binary:logistic',\n",
    "        'nthread': 8,\n",
    "        \n",
    "        'seed': 42,\n",
    "        'verbosity': 0,\n",
    "\n",
    "        'eval_metric': 'auc',\n",
    "    }\n",
    "\n",
    "    watchlist = [(dtrain, 'train'), (dval, 'val')]\n",
    "\n",
    "    model = xgb.train(\n",
    "        xgb_params, \n",
    "        dtrain, \n",
    "        num_boost_round=200, \n",
    "        evals=watchlist, \n",
    "        # early_stopping_rounds=10,\n",
    "        verbose_eval=False\n",
    "    )\n",
    "\n",
    "    y_pred = model.predict(dval)\n",
    "\n",
    "    print(f\"Accuracy: {accuracy_score(y_test, y_pred >= 0.5):.4f}\")\n",
    "    print(f\"ROC AUC Score {roc_auc_score(y_test, y_pred):.4f}\")\n",
    "    print()\n",
    "\n",
    "version5_full_train()"
   ]
  },
  {
   "cell_type": "markdown",
   "id": "2fa90063",
   "metadata": {},
   "source": [
    "## The winner is V4 - Decision Forest"
   ]
  },
  {
   "cell_type": "markdown",
   "id": "ca9ce429",
   "metadata": {},
   "source": [
    "# Exporting"
   ]
  },
  {
   "cell_type": "code",
   "execution_count": 43,
   "id": "dabfb456",
   "metadata": {},
   "outputs": [
    {
     "name": "stdout",
     "output_type": "stream",
     "text": [
      "Accuracy: 0.8750\n",
      "ROC AUC Score 0.9441\n",
      "\n"
     ]
    }
   ],
   "source": [
    "import pickle\n",
    "\n",
    "dv, model = version4_full_train()\n",
    "\n",
    "f_out = open('model_notebook.bin', 'wb') \n",
    "pickle.dump((dv, model), f_out)\n",
    "f_out.close()"
   ]
  }
 ],
 "metadata": {
  "kernelspec": {
   "display_name": "Python 3 (ipykernel)",
   "language": "python",
   "name": "python3"
  },
  "language_info": {
   "codemirror_mode": {
    "name": "ipython",
    "version": 3
   },
   "file_extension": ".py",
   "mimetype": "text/x-python",
   "name": "python",
   "nbconvert_exporter": "python",
   "pygments_lexer": "ipython3",
   "version": "3.11.4"
  }
 },
 "nbformat": 4,
 "nbformat_minor": 5
}
